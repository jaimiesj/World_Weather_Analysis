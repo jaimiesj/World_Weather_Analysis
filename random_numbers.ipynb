{
 "cells": [
  {
   "cell_type": "code",
   "execution_count": 1,
   "id": "dc612f1b",
   "metadata": {},
   "outputs": [],
   "source": [
    "#import the random module\n",
    "import random"
   ]
  },
  {
   "cell_type": "code",
   "execution_count": 2,
   "id": "eed9cbb2",
   "metadata": {},
   "outputs": [
    {
     "data": {
      "text/plain": [
       "-30"
      ]
     },
     "execution_count": 2,
     "metadata": {},
     "output_type": "execute_result"
    }
   ],
   "source": [
    "random.randint(-90, 90)"
   ]
  },
  {
   "cell_type": "code",
   "execution_count": 3,
   "id": "270385aa",
   "metadata": {},
   "outputs": [
    {
     "data": {
      "text/plain": [
       "0.778164976647984"
      ]
     },
     "execution_count": 3,
     "metadata": {},
     "output_type": "execute_result"
    }
   ],
   "source": [
    "random.random()"
   ]
  },
  {
   "cell_type": "code",
   "execution_count": 6,
   "id": "6d84aee3",
   "metadata": {},
   "outputs": [
    {
     "name": "stdout",
     "output_type": "stream",
     "text": [
      "[69.29410852367971, 76.87530961081018, 66.72998243321233, 51.079623248600846, 72.0636619064861, 4.688576510796009, -28.5576889983514, -18.80898273935371, 86.68059784724319, -33.28972397074243]\n"
     ]
    }
   ],
   "source": [
    "x = 1\n",
    "latitudes = []\n",
    "while x < 11:\n",
    "    random_lat = random.randint(-90, 89) + random.random()\n",
    "    latitudes.append(random_lat)\n",
    "    x += 1\n",
    "    \n",
    "print(latitudes)"
   ]
  },
  {
   "cell_type": "code",
   "execution_count": 7,
   "id": "a7d95455",
   "metadata": {},
   "outputs": [
    {
     "data": {
      "text/plain": [
       "48"
      ]
     },
     "execution_count": 7,
     "metadata": {},
     "output_type": "execute_result"
    }
   ],
   "source": [
    "random.randrange(-90, 90, step=1)"
   ]
  },
  {
   "cell_type": "code",
   "execution_count": 8,
   "id": "d68c6eb1",
   "metadata": {},
   "outputs": [
    {
     "data": {
      "text/plain": [
       "30"
      ]
     },
     "execution_count": 8,
     "metadata": {},
     "output_type": "execute_result"
    }
   ],
   "source": [
    "random.randrange(-90, 90, step=3)"
   ]
  },
  {
   "cell_type": "code",
   "execution_count": 9,
   "id": "5a89a84c",
   "metadata": {},
   "outputs": [
    {
     "data": {
      "text/plain": [
       "-62.82161648248204"
      ]
     },
     "execution_count": 9,
     "metadata": {},
     "output_type": "execute_result"
    }
   ],
   "source": [
    "random.uniform(-90, 90)"
   ]
  },
  {
   "cell_type": "code",
   "execution_count": 10,
   "id": "ba99ffb0",
   "metadata": {},
   "outputs": [],
   "source": [
    "#import the NumPy module\n",
    "import numpy as np"
   ]
  },
  {
   "cell_type": "code",
   "execution_count": 11,
   "id": "9811227b",
   "metadata": {},
   "outputs": [
    {
     "data": {
      "text/plain": [
       "array([-34.3951743 ,  83.3717909 ,  64.14942284, -49.85879772,\n",
       "        73.6067559 ,  69.34491939, -32.18391554,  33.7907857 ,\n",
       "       -70.10142069, -54.77448973,  25.82169921,  72.56520886,\n",
       "       -77.15583369, -87.01936193,  68.12893233, -19.54794116,\n",
       "         1.6099846 , -69.99820656,  27.2105366 , -79.24923612,\n",
       "       -16.94650668,  61.17145856,  15.68636129, -24.52461975,\n",
       "        -5.48385826, -22.49062504,  28.37562104,  65.20412054,\n",
       "        -1.59194617, -25.41336988,  66.44746175, -52.17452378,\n",
       "        -7.91739907,  -1.05122929, -10.92154588, -77.74422742,\n",
       "       -31.31147956, -21.7776189 ,  73.48624934, -36.02012887,\n",
       "       -68.02486462,  46.05754876, -70.00354454, -12.98736882,\n",
       "        -9.9474638 ,  47.24654224,  53.82295146,  83.87833488,\n",
       "        77.76974374, -13.74522528])"
      ]
     },
     "execution_count": 11,
     "metadata": {},
     "output_type": "execute_result"
    }
   ],
   "source": [
    "np.random.uniform(-90.000, 90.000, size=50)"
   ]
  },
  {
   "cell_type": "code",
   "execution_count": 12,
   "id": "481e5834",
   "metadata": {},
   "outputs": [],
   "source": [
    "# Import timeit.\n",
    "import timeit"
   ]
  },
  {
   "cell_type": "code",
   "execution_count": 13,
   "id": "2171b41f",
   "metadata": {},
   "outputs": [
    {
     "name": "stdout",
     "output_type": "stream",
     "text": [
      "21.7 µs ± 271 ns per loop (mean ± std. dev. of 7 runs, 10000 loops each)\n"
     ]
    }
   ],
   "source": [
    "%timeit np.random.uniform(-90.000, 90.000, size=1500)"
   ]
  },
  {
   "cell_type": "code",
   "execution_count": 14,
   "id": "9da5769a",
   "metadata": {},
   "outputs": [
    {
     "name": "stdout",
     "output_type": "stream",
     "text": [
      "2.42 ms ± 18 µs per loop (mean ± std. dev. of 7 runs, 100 loops each)\n"
     ]
    }
   ],
   "source": [
    "def latitudes(size):\n",
    "    latitudes = []\n",
    "    x = 0\n",
    "    while x < (size):\n",
    "        random_lat = random.randint(-90, 90) + random.random()\n",
    "        latitudes.append(random_lat)\n",
    "        x += 1\n",
    "    return latitudes\n",
    "# Call the function with 1500.\n",
    "%timeit latitudes(1500)"
   ]
  },
  {
   "cell_type": "code",
   "execution_count": null,
   "id": "2a17548f",
   "metadata": {},
   "outputs": [],
   "source": []
  }
 ],
 "metadata": {
  "kernelspec": {
   "display_name": "PythonData",
   "language": "python",
   "name": "pythondata"
  },
  "language_info": {
   "codemirror_mode": {
    "name": "ipython",
    "version": 3
   },
   "file_extension": ".py",
   "mimetype": "text/x-python",
   "name": "python",
   "nbconvert_exporter": "python",
   "pygments_lexer": "ipython3",
   "version": "3.8.8"
  }
 },
 "nbformat": 4,
 "nbformat_minor": 5
}
